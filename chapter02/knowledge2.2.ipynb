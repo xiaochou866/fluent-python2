{
 "cells": [
  {
   "cell_type": "markdown",
   "source": [
    "Python标准库用C语言实现了丰富的序列类型，列举如下：\n",
    "容器序列：可存放不同类型的项，其中包括嵌套容器。实例：list、tuple和collections.deque\n",
    "扁平序列：可存放一种简单的项。实例：str、bytes和array.array\n",
    "\n",
    "任何一个Python对象在内存中都有一个包含包含元数据的标头。最简单的Python对象，例如一个float，内存标头中有一个值字段和两个元数据字段。\n",
    "- ob_refcnt: 对象的引用计数\n",
    "- ob_type: 指向对象类型的指针\n",
    "- ob_fval: 一个C语言double类型值，存放float的值\n",
    "- 注：假如有一个浮点数数组和一个浮点数元组，显然前者比后者更加紧凑，因为数组整体是一个对象，存放各个浮点数的原始值，而元组由多个对象构成：元组自身和存放的各个float对象\n",
    "\n",
    "另外还可以按照可变性对序列类型分类：\n",
    "可变序列：例如list、bytearray、array.array和collections.deque\n",
    "不可变序列：例如tuple、str和bytes"
   ],
   "metadata": {
    "collapsed": false
   }
  }
 ],
 "metadata": {
  "kernelspec": {
   "display_name": "Python 3",
   "language": "python",
   "name": "python3"
  },
  "language_info": {
   "codemirror_mode": {
    "name": "ipython",
    "version": 2
   },
   "file_extension": ".py",
   "mimetype": "text/x-python",
   "name": "python",
   "nbconvert_exporter": "python",
   "pygments_lexer": "ipython2",
   "version": "2.7.6"
  }
 },
 "nbformat": 4,
 "nbformat_minor": 0
}
